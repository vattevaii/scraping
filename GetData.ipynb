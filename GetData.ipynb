{
 "cells": [
  {
   "cell_type": "code",
   "execution_count": 35,
   "id": "c05b7e2d-b72d-4f92-8bbc-d419a19de72a",
   "metadata": {},
   "outputs": [],
   "source": [
    "import requests\n",
    "from bs4 import BeautifulSoup,NavigableString, Tag\n",
    "import pandas as pd"
   ]
  },
  {
   "cell_type": "code",
   "execution_count": 36,
   "id": "2908dbca-4dd8-4f35-8fb1-c17164d386ea",
   "metadata": {},
   "outputs": [],
   "source": [
    "baseURL = \"https://www.nhsinform.scot\""
   ]
  },
  {
   "cell_type": "code",
   "execution_count": 37,
   "id": "e3910c6e-1ad8-4ed7-adbc-5103b9efb938",
   "metadata": {},
   "outputs": [],
   "source": [
    "html_content = requests.get(baseURL+\"/illnesses-and-conditions/a-to-z/\").text"
   ]
  },
  {
   "cell_type": "code",
   "execution_count": 38,
   "id": "ec801bba-ef8d-4fdb-a424-e37af7aabc0c",
   "metadata": {},
   "outputs": [],
   "source": [
    "soup = BeautifulSoup(html_content, \"html5lib\")"
   ]
  },
  {
   "cell_type": "code",
   "execution_count": 39,
   "id": "344d06b7-3b8d-4581-af08-81351d5d4c5e",
   "metadata": {},
   "outputs": [],
   "source": [
    "mydivs = soup.find_all(\"a\", {\"class\": \"nhs-uk__az-link\"})"
   ]
  },
  {
   "cell_type": "code",
   "execution_count": 40,
   "id": "7772758c-803c-46ff-a46c-a3988b46b3c1",
   "metadata": {},
   "outputs": [
    {
     "data": {
      "text/plain": [
       "322"
      ]
     },
     "execution_count": 40,
     "metadata": {},
     "output_type": "execute_result"
    }
   ],
   "source": [
    "len(mydivs)"
   ]
  },
  {
   "cell_type": "code",
   "execution_count": 41,
   "id": "a27c4467-ac1b-41c6-882b-fbbaaf1cf347",
   "metadata": {},
   "outputs": [],
   "source": [
    "linkTextHref = []\n",
    "for link in mydivs:\n",
    "    linkTextHref.append({\"name\":link.get_text(strip=True),\"link\":baseURL+link[\"href\"]})"
   ]
  },
  {
   "cell_type": "code",
   "execution_count": 90,
   "id": "31226d45-4031-4e18-ad5b-06b1a4330f7b",
   "metadata": {},
   "outputs": [],
   "source": [
    "data = linkTextHref[29]"
   ]
  },
  {
   "cell_type": "code",
   "execution_count": 91,
   "id": "b43e6581-618f-4808-9894-f5b4cfa577e3",
   "metadata": {},
   "outputs": [
    {
     "data": {
      "text/plain": [
       "'Bacterial vaginosis'"
      ]
     },
     "execution_count": 91,
     "metadata": {},
     "output_type": "execute_result"
    }
   ],
   "source": [
    "data[\"name\"]"
   ]
  },
  {
   "cell_type": "code",
   "execution_count": 92,
   "id": "04621b44-14d8-4e7b-9390-99620528465a",
   "metadata": {},
   "outputs": [],
   "source": [
    "html = requests.get(data[\"link\"]).text\n",
    "soup = BeautifulSoup(html,\"html5lib\")"
   ]
  },
  {
   "cell_type": "raw",
   "id": "a1ac8804-6b87-494e-9863-0bf9777250df",
   "metadata": {
    "tags": []
   },
   "source": [
    "<div class=\"tab js-guide__section guide__section\" data-umb-id=\"5700\" id=\"about-abdominal-aortic-aneurysms\">\n",
    "            <h2>About abdominal aortic aneurysms</h2>"
   ]
  },
  {
   "cell_type": "code",
   "execution_count": 93,
   "id": "02c7c0a0-eb3d-48b2-95e3-7da73644283f",
   "metadata": {},
   "outputs": [],
   "source": [
    "# soup.select(\"div[id^=symptoms]\")\n",
    "about = soup.select(\"div[id^=about]\")\n",
    "symptoms = soup.select(\"div[id^=symptoms]\")\n",
    "causes = soup.select(\"div[id^=causes]\")\n",
    "diagon = soup.select(\"div[id^=diagnos]\")\n",
    "treat = soup.select(\"div[id^=treating]\")\n",
    "prevent = soup.select(\"div[id^=preventing]\")"
   ]
  },
  {
   "cell_type": "markdown",
   "id": "c5eb526b-4d8c-40ce-b411-2b2bf4d4a910",
   "metadata": {},
   "source": [
    "# What if you cant find the div with the ids"
   ]
  },
  {
   "cell_type": "code",
   "execution_count": 114,
   "id": "b8c81ffb-a83e-4696-85f4-12e8a598f10e",
   "metadata": {},
   "outputs": [],
   "source": [
    "def findAll():\n",
    "    about2 = {\"about\":[],\"symptoms\":[],\"causes\":[],\"diagon\":[],\"treating\":[],\"preventing\":[]};\n",
    "    array = \"about\"\n",
    "    for header in about[0].find_all('h2'):\n",
    "        nextNode = header\n",
    "        while True:\n",
    "            nextNode = nextNode.nextSibling\n",
    "            if nextNode.name == 'h2':\n",
    "                print(nextNode.text)\n",
    "            if nextNode is None:\n",
    "                break\n",
    "            elif nextNode.name == 'h2' and \"symptom\" in nextNode.text.lower():\n",
    "                print(\"Symp\")\n",
    "                array = \"symptoms\"\n",
    "            elif nextNode.name == 'h2' and \"cause\" in nextNode.text.lower():\n",
    "                array = \"causes\"\n",
    "            elif nextNode.name == 'h2' and \"diagnos\" in nextNode.text.lower():\n",
    "                array = \"diagon\"\n",
    "            elif nextNode.name == 'h2' and \"treat\" in nextNode.text.lower():\n",
    "                array = \"treating\"\n",
    "            elif nextNode.name == 'h2' and \"prevent\" in nextNode.text.lower():\n",
    "                array = \"preventing\"\n",
    "            else:\n",
    "                text = nextNode.get_text(strip=True)\n",
    "                if(text):\n",
    "                    about2[array].append(text)\n",
    "        return about2"
   ]
  },
  {
   "cell_type": "code",
   "execution_count": 115,
   "id": "50040eb1-00af-4d68-bba9-aaaec0e6b11a",
   "metadata": {},
   "outputs": [
    {
     "ename": "AttributeError",
     "evalue": "'NoneType' object has no attribute 'name'",
     "output_type": "error",
     "traceback": [
      "\u001b[1;31m---------------------------------------------------------------------------\u001b[0m",
      "\u001b[1;31mAttributeError\u001b[0m                            Traceback (most recent call last)",
      "\u001b[1;32m~\\AppData\\Local\\Temp/ipykernel_3672/3759922824.py\u001b[0m in \u001b[0;36m<module>\u001b[1;34m\u001b[0m\n\u001b[0;32m      2\u001b[0m     \u001b[0mprint\u001b[0m\u001b[1;33m(\u001b[0m\u001b[0msymptoms\u001b[0m\u001b[1;33m[\u001b[0m\u001b[1;36m0\u001b[0m\u001b[1;33m]\u001b[0m\u001b[1;33m.\u001b[0m\u001b[0mfind_all\u001b[0m\u001b[1;33m(\u001b[0m\u001b[1;34m\"li\"\u001b[0m\u001b[1;33m)\u001b[0m\u001b[1;33m)\u001b[0m\u001b[1;33m\u001b[0m\u001b[1;33m\u001b[0m\u001b[0m\n\u001b[0;32m      3\u001b[0m \u001b[1;32melse\u001b[0m\u001b[1;33m:\u001b[0m\u001b[1;33m\u001b[0m\u001b[1;33m\u001b[0m\u001b[0m\n\u001b[1;32m----> 4\u001b[1;33m     \u001b[0mprint\u001b[0m\u001b[1;33m(\u001b[0m\u001b[0mfindAll\u001b[0m\u001b[1;33m(\u001b[0m\u001b[1;33m)\u001b[0m\u001b[1;33m)\u001b[0m\u001b[1;33m\u001b[0m\u001b[1;33m\u001b[0m\u001b[0m\n\u001b[0m",
      "\u001b[1;32m~\\AppData\\Local\\Temp/ipykernel_3672/1356812408.py\u001b[0m in \u001b[0;36mfindAll\u001b[1;34m()\u001b[0m\n\u001b[0;32m      6\u001b[0m         \u001b[1;32mwhile\u001b[0m \u001b[1;32mTrue\u001b[0m\u001b[1;33m:\u001b[0m\u001b[1;33m\u001b[0m\u001b[1;33m\u001b[0m\u001b[0m\n\u001b[0;32m      7\u001b[0m             \u001b[0mnextNode\u001b[0m \u001b[1;33m=\u001b[0m \u001b[0mnextNode\u001b[0m\u001b[1;33m.\u001b[0m\u001b[0mnextSibling\u001b[0m\u001b[1;33m\u001b[0m\u001b[1;33m\u001b[0m\u001b[0m\n\u001b[1;32m----> 8\u001b[1;33m             \u001b[1;32mif\u001b[0m \u001b[0mnextNode\u001b[0m\u001b[1;33m.\u001b[0m\u001b[0mname\u001b[0m \u001b[1;33m==\u001b[0m \u001b[1;34m'h2'\u001b[0m\u001b[1;33m:\u001b[0m\u001b[1;33m\u001b[0m\u001b[1;33m\u001b[0m\u001b[0m\n\u001b[0m\u001b[0;32m      9\u001b[0m                 \u001b[0mprint\u001b[0m\u001b[1;33m(\u001b[0m\u001b[0mnextNode\u001b[0m\u001b[1;33m.\u001b[0m\u001b[0mtext\u001b[0m\u001b[1;33m)\u001b[0m\u001b[1;33m\u001b[0m\u001b[1;33m\u001b[0m\u001b[0m\n\u001b[0;32m     10\u001b[0m             \u001b[1;32mif\u001b[0m \u001b[0mnextNode\u001b[0m \u001b[1;32mis\u001b[0m \u001b[1;32mNone\u001b[0m\u001b[1;33m:\u001b[0m\u001b[1;33m\u001b[0m\u001b[1;33m\u001b[0m\u001b[0m\n",
      "\u001b[1;31mAttributeError\u001b[0m: 'NoneType' object has no attribute 'name'"
     ]
    }
   ],
   "source": [
    "if(symptoms):\n",
    "    print(symptoms[0].find_all(\"li\"))\n",
    "else:\n",
    "    print(findAll())"
   ]
  },
  {
   "cell_type": "code",
   "execution_count": 100,
   "id": "13a7fb4e-0938-4094-add1-779699614aa0",
   "metadata": {},
   "outputs": [
    {
     "name": "stdout",
     "output_type": "stream",
     "text": [
      "0\n"
     ]
    }
   ],
   "source": [
    "print(len(symptoms))"
   ]
  },
  {
   "cell_type": "code",
   "execution_count": 111,
   "id": "9c65fee4-17d5-44eb-a822-f27e7ad94f71",
   "metadata": {},
   "outputs": [
    {
     "data": {
      "text/plain": [
       "<div class=\"tab js-guide__section guide__section\" data-umb-id=\"7368\" id=\"about-bacterial-vaginosis\">\n",
       "            <h2>About bacterial vaginosis</h2>\n",
       "\n",
       "    \n",
       "\n",
       "                    \n",
       "\n",
       "\n",
       "    \n",
       "<div class=\"editor\">\n",
       "    <p>Bacterial vaginosis is not a sexually transmitted infection. It's an imbalance of the usual bacteria found in the vagina. It can cause an abnormal vaginal discharge which can smell fishy and unpleasant.</p>\n",
       "<h2>How do I get bacterial vaginosis?</h2>\n",
       "<p>Bacteria called lactobacilli naturally live in your vagina and stop other bacteria from growing there.</p>\n",
       "<p>Sometimes the balance of these bacteria changes. If this happens you can develop bacterial vaginosis.</p>\n",
       "<p>Bacteria other than lactobacilli overgrow in the vagina and can cause symptoms.</p>\n",
       "<p>Bacterial vaginosis can’t be passed from person to person. But it's more common in people who are sexually active.</p>\n",
       "<p>Other things that may increase your risk of getting it include:</p>\n",
       "<ul>\n",
       "<li>having a new sexual partner</li>\n",
       "<li>having multiple sexual partners</li>\n",
       "<li>smoking</li>\n",
       "<li>using scented soaps or perfumed bubble bath</li>\n",
       "<li>putting antiseptic liquids in the bath</li>\n",
       "<li>douching (washing or cleaning out the vagina with water or other fluids)</li>\n",
       "<li>using vaginal washes or deodorant</li>\n",
       "<li>using strong detergents to wash your underwear</li>\n",
       "</ul>\n",
       "<h2>Symptoms of bacterial vaginosis</h2>\n",
       "<p>Often there are no symptoms of bacterial vaginosis. Some women may notice a change in the normal secretions from the vagina.</p>\n",
       "<p>This discharge will usually be white or grey, thin or watery and have a strong, unpleasant fishy smell. This can be more noticeable during and after sex, and during periods.</p>\n",
       "<p>Bacterial vaginosis does not usually cause itching or irritation.</p>\n",
       "<h2>Testing for bacterial vaginosis</h2>\n",
       "<p>If you think you have bacterial vaginosis you can make an appointment with your GP or local sexual health services.</p>\n",
       "<p>Your nurse or doctor may perform an internal examination to check the vagina for signs of bacterial vaginosis and use a swab to collect a sample of the discharge from your vagina.</p>\n",
       "<p>A swab looks a bit like a cotton bud and collecting a sample only takes a few minutes. Although not painful, it may be a little uncomfortable for a moment.</p>\n",
       "<p>A specially coated paper may be used to test the pH (alkaline/acid balance) of your vagina.</p>\n",
       "<p>Sometimes a diagnosis can be made straightaway because of the distinctive appearance of the discharge. Sometimes the sample will be sent to a lab for testing.</p>\n",
       "<h2>Treatment for bacterial vaginosis</h2>\n",
       "<p>Bacterial vaginosis is treated with antibiotics. An antibiotic cream or gel to use in the vagina may be given instead of antibiotic tablets by mouth.</p>\n",
       "<p>While you're there, make sure you tell the doctor or nurse if you:</p>\n",
       "<ul>\n",
       "<li>are pregnant</li>\n",
       "<li>think you might be pregnant</li>\n",
       "<li>are breastfeeding</li>\n",
       "</ul>\n",
       "<p>These may affect the type of treatment you're given.</p>\n",
       "<h3>Bacterial vaginosis recurrence</h3>\n",
       "<p>Bacterial vaginosis can recur. Most recurrences will respond to the treatments described.</p>\n",
       "<h2>Avoiding passing on bacterial vaginosis to a partner</h2>\n",
       "<p>You can still have sex while you are being treated for bacterial vaginosis because it's not sexually transmitted. However, antibiotics and cream can affect condoms and other contraception. Speak to your doctor or pharmacist who can give you further information.</p>\n",
       "<h2>Reducing the risk of getting bacterial vaginosis</h2>\n",
       "<p>The causes of bacterial vaginosis are not fully understood, so it may not be possible to completely prevent it. However, you may be able to lower your risk of developing it.</p>\n",
       "</div>\n",
       "\n",
       "\n",
       "                    \n",
       "\n",
       "\n",
       "    \n",
       "        \n",
       "               \n",
       "    <div class=\"nhsuk-do-dont-list\">\n",
       "        <h3 class=\"nhsuk-do-dont-list__label\">Don't</h3>\n",
       "        <ul class=\"nhsuk-list nhsuk-list--cross\">\n",
       "                    <li>\n",
       "                        <svg aria-hidden=\"true\" class=\"nhsuk-icon nhsuk-icon__cross\" viewBox=\"0 0 24 24\" xmlns=\"http://www.w3.org/2000/svg\"><path d=\"M17 18.5c-.4 0-.8-.1-1.1-.4l-10-10c-.6-.6-.6-1.6 0-2.1.6-.6 1.5-.6 2.1 0l10 10c.6.6.6 1.5 0 2.1-.3.3-.6.4-1 .4z\"></path><path d=\"M7 18.5c-.4 0-.8-.1-1.1-.4-.6-.6-.6-1.5 0-2.1l10-10c.6-.6 1.5-.6 2.1 0 .6.6.6 1.5 0 2.1l-10 10c-.3.3-.6.4-1 .4z\"></path></svg>\n",
       "                        do not use scented soaps and perfumed bubble bath\n",
       "                    </li>\n",
       "                    <li>\n",
       "                        <svg aria-hidden=\"true\" class=\"nhsuk-icon nhsuk-icon__cross\" viewBox=\"0 0 24 24\" xmlns=\"http://www.w3.org/2000/svg\"><path d=\"M17 18.5c-.4 0-.8-.1-1.1-.4l-10-10c-.6-.6-.6-1.6 0-2.1.6-.6 1.5-.6 2.1 0l10 10c.6.6.6 1.5 0 2.1-.3.3-.6.4-1 .4z\"></path><path d=\"M7 18.5c-.4 0-.8-.1-1.1-.4-.6-.6-.6-1.5 0-2.1l10-10c.6-.6 1.5-.6 2.1 0 .6.6.6 1.5 0 2.1l-10 10c-.3.3-.6.4-1 .4z\"></path></svg>\n",
       "                        do not use vaginal deodorant\n",
       "                    </li>\n",
       "                    <li>\n",
       "                        <svg aria-hidden=\"true\" class=\"nhsuk-icon nhsuk-icon__cross\" viewBox=\"0 0 24 24\" xmlns=\"http://www.w3.org/2000/svg\"><path d=\"M17 18.5c-.4 0-.8-.1-1.1-.4l-10-10c-.6-.6-.6-1.6 0-2.1.6-.6 1.5-.6 2.1 0l10 10c.6.6.6 1.5 0 2.1-.3.3-.6.4-1 .4z\"></path><path d=\"M7 18.5c-.4 0-.8-.1-1.1-.4-.6-.6-.6-1.5 0-2.1l10-10c.6-.6 1.5-.6 2.1 0 .6.6.6 1.5 0 2.1l-10 10c-.3.3-.6.4-1 .4z\"></path></svg>\n",
       "                        do not douche (washing or cleaning out your vagina)\n",
       "                    </li>\n",
       "                    <li>\n",
       "                        <svg aria-hidden=\"true\" class=\"nhsuk-icon nhsuk-icon__cross\" viewBox=\"0 0 24 24\" xmlns=\"http://www.w3.org/2000/svg\"><path d=\"M17 18.5c-.4 0-.8-.1-1.1-.4l-10-10c-.6-.6-.6-1.6 0-2.1.6-.6 1.5-.6 2.1 0l10 10c.6.6.6 1.5 0 2.1-.3.3-.6.4-1 .4z\"></path><path d=\"M7 18.5c-.4 0-.8-.1-1.1-.4-.6-.6-.6-1.5 0-2.1l10-10c.6-.6 1.5-.6 2.1 0 .6.6.6 1.5 0 2.1l-10 10c-.3.3-.6.4-1 .4z\"></path></svg>\n",
       "                        do not put antiseptic liquids in the bath\n",
       "                    </li>\n",
       "                    <li>\n",
       "                        <svg aria-hidden=\"true\" class=\"nhsuk-icon nhsuk-icon__cross\" viewBox=\"0 0 24 24\" xmlns=\"http://www.w3.org/2000/svg\"><path d=\"M17 18.5c-.4 0-.8-.1-1.1-.4l-10-10c-.6-.6-.6-1.6 0-2.1.6-.6 1.5-.6 2.1 0l10 10c.6.6.6 1.5 0 2.1-.3.3-.6.4-1 .4z\"></path><path d=\"M7 18.5c-.4 0-.8-.1-1.1-.4-.6-.6-.6-1.5 0-2.1l10-10c.6-.6 1.5-.6 2.1 0 .6.6.6 1.5 0 2.1l-10 10c-.3.3-.6.4-1 .4z\"></path></svg>\n",
       "                        do not use strong detergent\n",
       "                    </li>\n",
       "                    <li>\n",
       "                        <svg aria-hidden=\"true\" class=\"nhsuk-icon nhsuk-icon__cross\" viewBox=\"0 0 24 24\" xmlns=\"http://www.w3.org/2000/svg\"><path d=\"M17 18.5c-.4 0-.8-.1-1.1-.4l-10-10c-.6-.6-.6-1.6 0-2.1.6-.6 1.5-.6 2.1 0l10 10c.6.6.6 1.5 0 2.1-.3.3-.6.4-1 .4z\"></path><path d=\"M7 18.5c-.4 0-.8-.1-1.1-.4-.6-.6-.6-1.5 0-2.1l10-10c.6-.6 1.5-.6 2.1 0 .6.6.6 1.5 0 2.1l-10 10c-.3.3-.6.4-1 .4z\"></path></svg>\n",
       "                        avoid triggers that you've identified yourself\n",
       "                    </li>\n",
       "        </ul>\n",
       "    </div>\n",
       "\n",
       "\n",
       "\n",
       "        \n",
       "\n",
       "\n",
       "\n",
       "                    \n",
       "\n",
       "\n",
       "    \n",
       "<div class=\"editor\">\n",
       "    <h2>Other formats</h2>\n",
       "<p><a data-id=\"16469\" href=\"/translations/languages/british-sign-language-bsl/sexual-and-reproductive/bacterial-vaginosis-bsl/\" title=\"Bacterial vaginosis – British Sign Language (BSL)\">Bacterial vaginosis – British Sign Language (BSL)</a></p>\n",
       "</div>\n",
       "\n",
       "\n",
       "\n",
       "\n",
       "\n",
       "\n",
       "        </div>"
      ]
     },
     "execution_count": 111,
     "metadata": {},
     "output_type": "execute_result"
    }
   ],
   "source": [
    "about[0]"
   ]
  },
  {
   "cell_type": "code",
   "execution_count": null,
   "id": "686aea54-c0b4-4a9c-b910-b7e80635e65f",
   "metadata": {},
   "outputs": [],
   "source": []
  }
 ],
 "metadata": {
  "kernelspec": {
   "display_name": "Python 3 (ipykernel)",
   "language": "python",
   "name": "python3"
  },
  "language_info": {
   "codemirror_mode": {
    "name": "ipython",
    "version": 3
   },
   "file_extension": ".py",
   "mimetype": "text/x-python",
   "name": "python",
   "nbconvert_exporter": "python",
   "pygments_lexer": "ipython3",
   "version": "3.10.1"
  }
 },
 "nbformat": 4,
 "nbformat_minor": 5
}
