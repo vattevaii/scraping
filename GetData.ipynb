{
 "cells": [
  {
   "cell_type": "code",
   "execution_count": 3,
   "id": "c05b7e2d-b72d-4f92-8bbc-d419a19de72a",
   "metadata": {},
   "outputs": [],
   "source": [
    "import requests\n",
    "from bs4 import BeautifulSoup,NavigableString, Tag\n",
    "import pandas as pd"
   ]
  },
  {
   "cell_type": "code",
   "execution_count": 4,
   "id": "2908dbca-4dd8-4f35-8fb1-c17164d386ea",
   "metadata": {},
   "outputs": [],
   "source": [
    "baseURL = \"https://www.nhsinform.scot\""
   ]
  },
  {
   "cell_type": "code",
   "execution_count": 5,
   "id": "e3910c6e-1ad8-4ed7-adbc-5103b9efb938",
   "metadata": {},
   "outputs": [],
   "source": [
    "html_content = requests.get(baseURL+\"/illnesses-and-conditions/a-to-z/\").text"
   ]
  },
  {
   "cell_type": "code",
   "execution_count": 6,
   "id": "ec801bba-ef8d-4fdb-a424-e37af7aabc0c",
   "metadata": {},
   "outputs": [],
   "source": [
    "soup = BeautifulSoup(html_content, \"html5lib\")"
   ]
  },
  {
   "cell_type": "code",
   "execution_count": 7,
   "id": "344d06b7-3b8d-4581-af08-81351d5d4c5e",
   "metadata": {},
   "outputs": [],
   "source": [
    "mydivs = soup.find_all(\"a\", {\"class\": \"nhs-uk__az-link\"})"
   ]
  },
  {
   "cell_type": "code",
   "execution_count": 8,
   "id": "7772758c-803c-46ff-a46c-a3988b46b3c1",
   "metadata": {},
   "outputs": [
    {
     "data": {
      "text/plain": [
       "322"
      ]
     },
     "execution_count": 8,
     "metadata": {},
     "output_type": "execute_result"
    }
   ],
   "source": [
    "len(mydivs)"
   ]
  },
  {
   "cell_type": "code",
   "execution_count": 9,
   "id": "a27c4467-ac1b-41c6-882b-fbbaaf1cf347",
   "metadata": {},
   "outputs": [],
   "source": [
    "linkTextHref = []\n",
    "for link in mydivs:\n",
    "    linkTextHref.append({\"name\":link.get_text(strip=True),\"link\":baseURL+link[\"href\"]})"
   ]
  },
  {
   "cell_type": "code",
   "execution_count": 10,
   "id": "31226d45-4031-4e18-ad5b-06b1a4330f7b",
   "metadata": {},
   "outputs": [],
   "source": [
    "data = linkTextHref[29]"
   ]
  },
  {
   "cell_type": "code",
   "execution_count": 12,
   "id": "b43e6581-618f-4808-9894-f5b4cfa577e3",
   "metadata": {},
   "outputs": [
    {
     "data": {
      "text/plain": [
       "{'name': 'Bacterial vaginosis',\n",
       " 'link': 'https://www.nhsinform.scot/illnesses-and-conditions/a-to-z/b/bacterial-vaginosis'}"
      ]
     },
     "execution_count": 12,
     "metadata": {},
     "output_type": "execute_result"
    }
   ],
   "source": [
    "data"
   ]
  },
  {
   "cell_type": "markdown",
   "id": "ec9d72f1",
   "metadata": {},
   "source": [
    "## Test Link"
   ]
  },
  {
   "cell_type": "code",
   "execution_count": 92,
   "id": "04621b44-14d8-4e7b-9390-99620528465a",
   "metadata": {},
   "outputs": [],
   "source": [
    "html = requests.get(data[\"link\"]).text\n",
    "soup = BeautifulSoup(html,\"html5lib\")"
   ]
  },
  {
   "cell_type": "raw",
   "id": "a1ac8804-6b87-494e-9863-0bf9777250df",
   "metadata": {
    "tags": []
   },
   "source": [
    "<div class=\"tab js-guide__section guide__section\" data-umb-id=\"5700\" id=\"about-abdominal-aortic-aneurysms\">\n",
    "            <h2>About abdominal aortic aneurysms</h2>"
   ]
  },
  {
   "cell_type": "markdown",
   "id": "c5eb526b-4d8c-40ce-b411-2b2bf4d4a910",
   "metadata": {},
   "source": [
    "## Get all data from web"
   ]
  },
  {
   "cell_type": "code",
   "execution_count": 114,
   "id": "b8c81ffb-a83e-4696-85f4-12e8a598f10e",
   "metadata": {},
   "outputs": [],
   "source": [
    "def findAll():\n",
    "    about2 = {\"about\":[],\"symptoms\":[],\"causes\":[],\"diagon\":[],\"treating\":[],\"preventing\":[]};\n",
    "    array = \"about\"\n",
    "    for header in about[0].find_all('h2'):\n",
    "        nextNode = header\n",
    "        while True:\n",
    "            nextNode = nextNode.nextSibling\n",
    "            if nextNode.name == 'h2':\n",
    "                print(nextNode.text)\n",
    "            if nextNode is None:\n",
    "                break\n",
    "            elif nextNode.name == 'h2' and \"symptom\" in nextNode.text.lower():\n",
    "                print(\"Symp\")\n",
    "                array = \"symptoms\"\n",
    "            elif nextNode.name == 'h2' and \"cause\" in nextNode.text.lower():\n",
    "                array = \"causes\"\n",
    "            elif nextNode.name == 'h2' and \"diagnos\" in nextNode.text.lower():\n",
    "                array = \"diagon\"\n",
    "            elif nextNode.name == 'h2' and \"treat\" in nextNode.text.lower():\n",
    "                array = \"treating\"\n",
    "            elif nextNode.name == 'h2' and \"prevent\" in nextNode.text.lower():\n",
    "                array = \"preventing\"\n",
    "            else:\n",
    "                text = nextNode.get_text(strip=True)\n",
    "                if(text):\n",
    "                    about2[array].append(text)\n",
    "        return about2"
   ]
  },
  {
   "cell_type": "code",
   "execution_count": 115,
   "id": "50040eb1-00af-4d68-bba9-aaaec0e6b11a",
   "metadata": {},
   "outputs": [
    {
     "ename": "AttributeError",
     "evalue": "'NoneType' object has no attribute 'name'",
     "output_type": "error",
     "traceback": [
      "\u001b[1;31m---------------------------------------------------------------------------\u001b[0m",
      "\u001b[1;31mAttributeError\u001b[0m                            Traceback (most recent call last)",
      "\u001b[1;32m~\\AppData\\Local\\Temp/ipykernel_3672/3759922824.py\u001b[0m in \u001b[0;36m<module>\u001b[1;34m\u001b[0m\n\u001b[0;32m      2\u001b[0m     \u001b[0mprint\u001b[0m\u001b[1;33m(\u001b[0m\u001b[0msymptoms\u001b[0m\u001b[1;33m[\u001b[0m\u001b[1;36m0\u001b[0m\u001b[1;33m]\u001b[0m\u001b[1;33m.\u001b[0m\u001b[0mfind_all\u001b[0m\u001b[1;33m(\u001b[0m\u001b[1;34m\"li\"\u001b[0m\u001b[1;33m)\u001b[0m\u001b[1;33m)\u001b[0m\u001b[1;33m\u001b[0m\u001b[1;33m\u001b[0m\u001b[0m\n\u001b[0;32m      3\u001b[0m \u001b[1;32melse\u001b[0m\u001b[1;33m:\u001b[0m\u001b[1;33m\u001b[0m\u001b[1;33m\u001b[0m\u001b[0m\n\u001b[1;32m----> 4\u001b[1;33m     \u001b[0mprint\u001b[0m\u001b[1;33m(\u001b[0m\u001b[0mfindAll\u001b[0m\u001b[1;33m(\u001b[0m\u001b[1;33m)\u001b[0m\u001b[1;33m)\u001b[0m\u001b[1;33m\u001b[0m\u001b[1;33m\u001b[0m\u001b[0m\n\u001b[0m",
      "\u001b[1;32m~\\AppData\\Local\\Temp/ipykernel_3672/1356812408.py\u001b[0m in \u001b[0;36mfindAll\u001b[1;34m()\u001b[0m\n\u001b[0;32m      6\u001b[0m         \u001b[1;32mwhile\u001b[0m \u001b[1;32mTrue\u001b[0m\u001b[1;33m:\u001b[0m\u001b[1;33m\u001b[0m\u001b[1;33m\u001b[0m\u001b[0m\n\u001b[0;32m      7\u001b[0m             \u001b[0mnextNode\u001b[0m \u001b[1;33m=\u001b[0m \u001b[0mnextNode\u001b[0m\u001b[1;33m.\u001b[0m\u001b[0mnextSibling\u001b[0m\u001b[1;33m\u001b[0m\u001b[1;33m\u001b[0m\u001b[0m\n\u001b[1;32m----> 8\u001b[1;33m             \u001b[1;32mif\u001b[0m \u001b[0mnextNode\u001b[0m\u001b[1;33m.\u001b[0m\u001b[0mname\u001b[0m \u001b[1;33m==\u001b[0m \u001b[1;34m'h2'\u001b[0m\u001b[1;33m:\u001b[0m\u001b[1;33m\u001b[0m\u001b[1;33m\u001b[0m\u001b[0m\n\u001b[0m\u001b[0;32m      9\u001b[0m                 \u001b[0mprint\u001b[0m\u001b[1;33m(\u001b[0m\u001b[0mnextNode\u001b[0m\u001b[1;33m.\u001b[0m\u001b[0mtext\u001b[0m\u001b[1;33m)\u001b[0m\u001b[1;33m\u001b[0m\u001b[1;33m\u001b[0m\u001b[0m\n\u001b[0;32m     10\u001b[0m             \u001b[1;32mif\u001b[0m \u001b[0mnextNode\u001b[0m \u001b[1;32mis\u001b[0m \u001b[1;32mNone\u001b[0m\u001b[1;33m:\u001b[0m\u001b[1;33m\u001b[0m\u001b[1;33m\u001b[0m\u001b[0m\n",
      "\u001b[1;31mAttributeError\u001b[0m: 'NoneType' object has no attribute 'name'"
     ]
    }
   ],
   "source": [
    "if(symptoms):\n",
    "    print(symptoms[0].find_all(\"li\"))\n",
    "else:\n",
    "    print(findAll())"
   ]
  },
  {
   "cell_type": "code",
   "execution_count": 100,
   "id": "13a7fb4e-0938-4094-add1-779699614aa0",
   "metadata": {},
   "outputs": [
    {
     "name": "stdout",
     "output_type": "stream",
     "text": [
      "0\n"
     ]
    }
   ],
   "source": [
    "print(len(symptoms))"
   ]
  },
  {
   "cell_type": "code",
   "execution_count": null,
   "id": "9c65fee4-17d5-44eb-a822-f27e7ad94f71",
   "metadata": {},
   "outputs": [],
   "source": [
    "about[0]"
   ]
  },
  {
   "cell_type": "code",
   "execution_count": null,
   "id": "686aea54-c0b4-4a9c-b910-b7e80635e65f",
   "metadata": {},
   "outputs": [],
   "source": []
  }
 ],
 "metadata": {
  "kernelspec": {
   "display_name": "Python 3 (ipykernel)",
   "language": "python",
   "name": "python3"
  },
  "language_info": {
   "codemirror_mode": {
    "name": "ipython",
    "version": 3
   },
   "file_extension": ".py",
   "mimetype": "text/x-python",
   "name": "python",
   "nbconvert_exporter": "python",
   "pygments_lexer": "ipython3",
   "version": "3.10.1"
  }
 },
 "nbformat": 4,
 "nbformat_minor": 5
}
