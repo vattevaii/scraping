{
 "cells": [
  {
   "cell_type": "code",
   "execution_count": 1,
   "metadata": {},
   "outputs": [],
   "source": [
    "import re\n",
    "import json\n",
    "from nltk.corpus import stopwords\n"
   ]
  },
  {
   "cell_type": "code",
   "execution_count": 2,
   "metadata": {},
   "outputs": [],
   "source": [
    "data_json = json.load(open('data.json'))"
   ]
  },
  {
   "cell_type": "code",
   "execution_count": 24,
   "metadata": {},
   "outputs": [
    {
     "name": "stdout",
     "output_type": "stream",
     "text": [
      "showing info https://raw.githubusercontent.com/nltk/nltk_data/gh-pages/index.xml\n"
     ]
    },
    {
     "data": {
      "text/plain": [
       "True"
      ]
     },
     "execution_count": 24,
     "metadata": {},
     "output_type": "execute_result"
    }
   ],
   "source": [
    "import nltk\n",
    "nltk.download()"
   ]
  },
  {
   "cell_type": "code",
   "execution_count": 3,
   "metadata": {},
   "outputs": [],
   "source": [
    "stop_words =stopwords.words('english')"
   ]
  },
  {
   "cell_type": "code",
   "execution_count": null,
   "metadata": {},
   "outputs": [],
   "source": []
  },
  {
   "cell_type": "code",
   "execution_count": 4,
   "metadata": {},
   "outputs": [
    {
     "data": {
      "text/plain": [
       "179"
      ]
     },
     "execution_count": 4,
     "metadata": {},
     "output_type": "execute_result"
    }
   ],
   "source": [
    "len(stop_words)"
   ]
  },
  {
   "cell_type": "code",
   "execution_count": 58,
   "metadata": {},
   "outputs": [],
   "source": [
    "def get_pure_text(temp):\n",
    "    pure_text= ''\n",
    "    for item in temp:\n",
    "#         item = re.sub(r'[^\\w\\s]','',item) \n",
    "        pure_text+=re.sub(r'<.*?>', \"\", item)\n",
    "    return pure_text"
   ]
  },
  {
   "cell_type": "code",
   "execution_count": 59,
   "metadata": {},
   "outputs": [],
   "source": [
    "def remove_stop_words(temp):\n",
    "    pure_text = get_pure_text(temp)\n",
    "    final=''\n",
    "    for word in pure_text.split():\n",
    "        if word.lower() not in stop_words:\n",
    "#             text = re.sub(r'[^a-zA-Z0-9. ]','',word) # remove punctuations\n",
    "            final += word+' '\n",
    "    return final\n"
   ]
  },
  {
   "cell_type": "code",
   "execution_count": 16,
   "metadata": {},
   "outputs": [
    {
     "data": {
      "text/plain": [
       "\"Alzheimer's disease common type dementia, affecting estimated 850,000 people UK. Dementia progressive neurological disease affects multiple brain functions, including memory. exact cause Alzheimer's disease unknown, although number things thought increase risk developing condition. include: increasing age family history condition previous severe head injuries lifestyle factors conditions associated cardiovascular disease becoming increasingly understood common changes Alzheimer's vascular dementia together (mixed dementia). Read causes Alzheimer's disease Signs symptoms Alzheimer's disease Alzheimer's disease progressive condition, means symptoms develop gradually become severe course several years. affects multiple brain functions. first sign Alzheimer's disease usually minor memory problems. example, could forgetting recent conversations events, forgetting names places objects. condition develops, memory problems become severe symptoms develop, as: confusion, disorientation getting lost familiar places difficulty planning making decisions problems speech language problems moving around without assistance performing self-care tasks personality changes, becoming aggressive, demanding suspicious others hallucinations (seeing hearing things there) delusions (believing things untrue) low mood anxiety Read symptoms Alzheimer's disease affected? Alzheimer's disease common people age 65, affects slightly women men. risk Alzheimer's disease types dementia increases age, affecting estimated 1 14 people age 65 1 every 6 people age 80. However, around 1 every 20 cases Alzheimer's disease affects people aged 40 65. Receiving diagnosis symptoms Alzheimer's disease progress slowly, difficult recognise there's problem. Many people feel memory problems simply part getting older. However, timely diagnosis Alzheimer's disease give best chance prepare plan future, well receive treatment support may help. worried memory think may dementia, good idea see GP. worried someone else, encourage make appointment perhaps suggest go along them. There's single test used diagnose Alzheimer's disease. GP ask questions problems experiencing may tests rule conditions. Alzheimer's disease suspected, may referred specialist memory service to: discuss process making diagnosis organise testing create treatment plan Read diagnosing Alzheimer's disease Alzheimer's disease treated There's cure Alzheimer's disease, medication available help relieve symptoms slow progression condition people. Various types support also available help people Alzheimer's live independently possible, making changes home environment easier move around remember daily tasks. Psychological treatments cognitive stimulation therapy may also offered help support memory, problem solving skills language ability. Read treating Alzheimer's disease Outlook average, people Alzheimer's disease live around 8 10 years start develop symptoms. However, vary considerably person person. people condition live longer this, others not. Alzheimer's disease life-limiting illness, although many people diagnosed condition die another cause. Alzheimer’s disease progressive neurological condition, cause problems swallowing. lead aspiration (food inhaled lungs) cause frequent chest infections. also common people Alzheimer’s disease eventually difficulty eating reduced appetite. There's increasing awareness people Alzheimer’s disease need palliative care. includes support families, well person Alzheimer's. Alzheimer's disease prevented? exact cause Alzheimer's disease clear, there's known way prevent condition. However, things may reduce risk delay onset dementia, as: stopping smoking cutting alcohol eating healthy, balanced diet maintaining healthy weight staying physically fit mentally active measures health benefits, lowering risk cardiovascular disease improving overall mental health. Read preventing Alzheimer's disease \""
      ]
     },
     "execution_count": 16,
     "metadata": {},
     "output_type": "execute_result"
    }
   ],
   "source": [
    "remove_stop_words(data_json[7]['data'])"
   ]
  },
  {
   "cell_type": "code",
   "execution_count": 17,
   "metadata": {},
   "outputs": [
    {
     "data": {
      "text/plain": [
       "\"Alzheimer's disease common type dementia, affecting estimated 850,000 people UK. Dementia progressive neurological disease affects multiple brain functions, including memory. exact cause Alzheimer's disease unknown, although number things thought increase risk developing condition. include: increasing age family history condition previous severe head injuries lifestyle factors conditions associated cardiovascular disease becoming increasingly understood common changes Alzheimer's vascular dementia together (mixed dementia). Read causes Alzheimer's disease Signs symptoms Alzheimer's disease Alzheimer's disease progressive condition, means symptoms develop gradually become severe course several years. affects multiple brain functions. first sign Alzheimer's disease usually minor memory problems. example, could forgetting recent conversations events, forgetting names places objects. condition develops, memory problems become severe symptoms develop, as: confusion, disorientation getting lost familiar places difficulty planning making decisions problems speech language problems moving around without assistance performing self-care tasks personality changes, becoming aggressive, demanding suspicious others hallucinations (seeing hearing things there) delusions (believing things untrue) low mood anxiety Read symptoms Alzheimer's disease affected? Alzheimer's disease common people age 65, affects slightly women men. risk Alzheimer's disease types dementia increases age, affecting estimated 1 14 people age 65 1 every 6 people age 80. However, around 1 every 20 cases Alzheimer's disease affects people aged 40 65. Receiving diagnosis symptoms Alzheimer's disease progress slowly, difficult recognise there's problem. Many people feel memory problems simply part getting older. However, timely diagnosis Alzheimer's disease give best chance prepare plan future, well receive treatment support may help. worried memory think may dementia, good idea see GP. worried someone else, encourage make appointment perhaps suggest go along them. There's single test used diagnose Alzheimer's disease. GP ask questions problems experiencing may tests rule conditions. Alzheimer's disease suspected, may referred specialist memory service to: discuss process making diagnosis organise testing create treatment plan Read diagnosing Alzheimer's disease Alzheimer's disease treated There's cure Alzheimer's disease, medication available help relieve symptoms slow progression condition people. Various types support also available help people Alzheimer's live independently possible, making changes home environment easier move around remember daily tasks. Psychological treatments cognitive stimulation therapy may also offered help support memory, problem solving skills language ability. Read treating Alzheimer's disease Outlook average, people Alzheimer's disease live around 8 10 years start develop symptoms. However, vary considerably person person. people condition live longer this, others not. Alzheimer's disease life-limiting illness, although many people diagnosed condition die another cause. Alzheimer’s disease progressive neurological condition, cause problems swallowing. lead aspiration (food inhaled lungs) cause frequent chest infections. also common people Alzheimer’s disease eventually difficulty eating reduced appetite. There's increasing awareness people Alzheimer’s disease need palliative care. includes support families, well person Alzheimer's. Alzheimer's disease prevented? exact cause Alzheimer's disease clear, there's known way prevent condition. However, things may reduce risk delay onset dementia, as: stopping smoking cutting alcohol eating healthy, balanced diet maintaining healthy weight staying physically fit mentally active measures health benefits, lowering risk cardiovascular disease improving overall mental health. Read preventing Alzheimer's disease \""
      ]
     },
     "execution_count": 17,
     "metadata": {},
     "output_type": "execute_result"
    }
   ],
   "source": [
    "remove_stop_words0(data_json[7]['data'])"
   ]
  },
  {
   "cell_type": "code",
   "execution_count": null,
   "metadata": {},
   "outputs": [],
   "source": []
  },
  {
   "cell_type": "code",
   "execution_count": 18,
   "metadata": {},
   "outputs": [],
   "source": [
    "def remove_stop_words0(temp):\n",
    "    pure_text= ''\n",
    "    for item in temp:\n",
    "        pure_text+=re.sub(r'<.*?>', \"\", item)\n",
    "#     return pure_text\n",
    "    final=''\n",
    "    for word in pure_text.split():\n",
    "        if word.lower() not in stop_words:\n",
    "#             text = re.sub(r'[^a-zA-Z0-9. ]','',word) # remove punctuations\n",
    "            final += word+' '\n",
    "    return final\n"
   ]
  },
  {
   "cell_type": "code",
   "execution_count": 19,
   "metadata": {},
   "outputs": [
    {
     "data": {
      "text/plain": [
       "['<p>The 6-in-1 vaccine, also known as the DTaP/IPV/Hib/HepB vaccine, offers protection against diphtheria, tetanus, <a href=\"/illnesses-and-conditions/infections-and-poisoning/whooping-cough/\">whooping cough</a>, polio, Haemophilus influenzae type b (Hib) and hepatitis B.</p>',\n",
       " '<p>Hib are a type of bacteria that can cause meningitis.</p>',\n",
       " '<p>The vaccine is given on three separate occasions when babies are 8, 12 and 16 weeks old.</p>',\n",
       " '<p><a data-id=\"13816\" href=\"/healthy-living/immunisation/vaccines/the-6-in-1-vaccine/\" title=\"The 6-in-1 vaccine\">More about the 6-in-1 vaccine</a></p>']"
      ]
     },
     "execution_count": 19,
     "metadata": {},
     "output_type": "execute_result"
    }
   ],
   "source": [
    "data_json[1]['data']"
   ]
  },
  {
   "cell_type": "code",
   "execution_count": 20,
   "metadata": {},
   "outputs": [
    {
     "name": "stdout",
     "output_type": "stream",
     "text": [
      "symptoms TIA stroke, tend last minutes hours disappearing completely.Although symptoms improve, TIA never ignored serious warning sign problem blood supply brain means increased risk stroke near future.If TIA, contact GP, local hospital out-of-hours service, soon possible. \n",
      "\n",
      "\n",
      "6-in-1 vaccine, also known DTaP/IPV/Hib/HepB vaccine, offers protection diphtheria, tetanus, whooping cough, polio, Haemophilus influenzae type b (Hib) hepatitis B.Hib type bacteria cause meningitis.The vaccine given three separate occasions babies 8, 12 16 weeks old.More 6-in-1 vaccine \n",
      "\n",
      "\n"
     ]
    }
   ],
   "source": [
    "for i in range(2):\n",
    "    print(remove_stop_words(data_json[i]['data']))\n",
    "    print('\\n')"
   ]
  },
  {
   "cell_type": "code",
   "execution_count": 21,
   "metadata": {},
   "outputs": [],
   "source": [
    "from rake_nltk import Rake"
   ]
  },
  {
   "cell_type": "code",
   "execution_count": 22,
   "metadata": {},
   "outputs": [],
   "source": [
    "r = Rake()\n",
    "text_stop =remove_stop_words(data_json[0]['data'])\n",
    "# text = data_json[0]['data'][0]\n",
    "keywords = r.extract_keywords_from_text(text_stop)"
   ]
  },
  {
   "cell_type": "code",
   "execution_count": 25,
   "metadata": {},
   "outputs": [
    {
     "name": "stderr",
     "output_type": "stream",
     "text": [
      "[nltk_data] Downloading package punkt to /home/prasag/nltk_data...\n",
      "[nltk_data]   Package punkt is already up-to-date!\n"
     ]
    },
    {
     "data": {
      "text/plain": [
       "True"
      ]
     },
     "execution_count": 25,
     "metadata": {},
     "output_type": "execute_result"
    }
   ],
   "source": [
    "nltk.download('punkt')"
   ]
  },
  {
   "cell_type": "code",
   "execution_count": 26,
   "metadata": {},
   "outputs": [
    {
     "name": "stdout",
     "output_type": "stream",
     "text": [
      "None\n"
     ]
    }
   ],
   "source": [
    "print(keywords)"
   ]
  },
  {
   "cell_type": "code",
   "execution_count": 27,
   "metadata": {},
   "outputs": [
    {
     "data": {
      "text/plain": [
       "['<p>The symptoms of a TIA are the same as a stroke, but they tend to only last between a few minutes and a few hours before disappearing completely.</p>',\n",
       " \"<p>Although the symptoms do improve, a TIA should never be ignored as it's a serious warning sign there is a problem with the blood supply to your brain and means you're at an increased risk of having a stroke in the near future.</p>\",\n",
       " \"<p>If you've had a TIA, you should contact your GP, local hospital or out-of-hours service, as soon as possible.</p>\"]"
      ]
     },
     "execution_count": 27,
     "metadata": {},
     "output_type": "execute_result"
    }
   ],
   "source": [
    "data_json[0]['data']"
   ]
  },
  {
   "cell_type": "code",
   "execution_count": 28,
   "metadata": {},
   "outputs": [
    {
     "data": {
      "text/plain": [
       "[(240.16666666666669,\n",
       "  'tia never ignored serious warning sign problem blood supply brain means increased risk stroke near future'),\n",
       " (34.0, 'tend last minutes hours disappearing completely'),\n",
       " (19.166666666666668, 'symptoms tia stroke'),\n",
       " (9.0, 'although symptoms improve'),\n",
       " (6.666666666666667, 'tia'),\n",
       " (6.0, 'hours service'),\n",
       " (4.0, 'soon possible'),\n",
       " (4.0, 'local hospital'),\n",
       " (4.0, 'contact gp')]"
      ]
     },
     "execution_count": 28,
     "metadata": {},
     "output_type": "execute_result"
    }
   ],
   "source": [
    "r.extract_keywords_from_text(text_stop)\n",
    "r.get_ranked_phrases()\n",
    "r.get_ranked_phrases_with_scores()"
   ]
  },
  {
   "cell_type": "code",
   "execution_count": 29,
   "metadata": {},
   "outputs": [
    {
     "name": "stdout",
     "output_type": "stream",
     "text": [
      "['tia never ignored serious warning sign problem blood supply brain means increased risk stroke near future', 'tend last minutes hours disappearing completely', 'symptoms tia stroke', 'although symptoms improve', 'tia', 'hours service', 'soon possible', 'local hospital', 'contact gp']\n"
     ]
    }
   ],
   "source": [
    "print(r.get_ranked_phrases())"
   ]
  },
  {
   "cell_type": "code",
   "execution_count": 43,
   "metadata": {},
   "outputs": [],
   "source": [
    "def get_keywords(json_text):\n",
    "    stop_words_removed_text = remove_stop_words(json_text)\n",
    "    r= Rake()\n",
    "    r.extract_keywords_from_text(stop_words_removed_text)\n",
    "    keywords = r.get_ranked_phrases()\n",
    "    # print(f'html text : {json_text} \\n\\n stopword removed text : {stop_words_removed_text}\\n\\n keywords : {set(keywords)}')\n",
    "#     print(keywords)\n",
    "#     print(len(keywords))\n",
    "    return list(set(keywords))\n",
    "    "
   ]
  },
  {
   "cell_type": "code",
   "execution_count": 44,
   "metadata": {},
   "outputs": [
    {
     "name": "stdout",
     "output_type": "stream",
     "text": [
      "9\n",
      "\n",
      "\n",
      "15\n",
      "\n",
      "\n",
      "18\n",
      "\n",
      "\n",
      "12\n",
      "\n",
      "\n",
      "9\n",
      "\n",
      "\n",
      "5\n",
      "\n",
      "\n",
      "82\n",
      "\n",
      "\n",
      "100\n",
      "\n",
      "\n",
      "65\n",
      "\n",
      "\n",
      "80\n",
      "\n",
      "\n"
     ]
    }
   ],
   "source": [
    "for i in range(10):\n",
    "    print(len(get_keywords(data_json[i]['data'])))\n",
    "    print('\\n')"
   ]
  },
  {
   "cell_type": "code",
   "execution_count": 37,
   "metadata": {},
   "outputs": [],
   "source": [
    "new_j = data_json"
   ]
  },
  {
   "cell_type": "code",
   "execution_count": 38,
   "metadata": {},
   "outputs": [
    {
     "data": {
      "text/plain": [
       "{'title': \"'Mini-stroke' or transient ischaemic attack (TIA)\",\n",
       " 'type': 'symptom',\n",
       " 'data': ['<p>The symptoms of a TIA are the same as a stroke, but they tend to only last between a few minutes and a few hours before disappearing completely.</p>',\n",
       "  \"<p>Although the symptoms do improve, a TIA should never be ignored as it's a serious warning sign there is a problem with the blood supply to your brain and means you're at an increased risk of having a stroke in the near future.</p>\",\n",
       "  \"<p>If you've had a TIA, you should contact your GP, local hospital or out-of-hours service, as soon as possible.</p>\"],\n",
       " 'disease': 'Stroke',\n",
       " 'keywords': \"['sda']\"}"
      ]
     },
     "execution_count": 38,
     "metadata": {},
     "output_type": "execute_result"
    }
   ],
   "source": [
    "new_j[0]"
   ]
  },
  {
   "cell_type": "code",
   "execution_count": 39,
   "metadata": {},
   "outputs": [
    {
     "data": {
      "text/plain": [
       "{'title': \"'Mini-stroke' or transient ischaemic attack (TIA)\",\n",
       " 'type': 'symptom',\n",
       " 'data': ['<p>The symptoms of a TIA are the same as a stroke, but they tend to only last between a few minutes and a few hours before disappearing completely.</p>',\n",
       "  \"<p>Although the symptoms do improve, a TIA should never be ignored as it's a serious warning sign there is a problem with the blood supply to your brain and means you're at an increased risk of having a stroke in the near future.</p>\",\n",
       "  \"<p>If you've had a TIA, you should contact your GP, local hospital or out-of-hours service, as soon as possible.</p>\"],\n",
       " 'disease': 'Stroke',\n",
       " 'keywords': \"['sda']\"}"
      ]
     },
     "execution_count": 39,
     "metadata": {},
     "output_type": "execute_result"
    }
   ],
   "source": [
    "new_j[0].update({'keywords':\"['sda']\"})\n",
    "new_j[0]"
   ]
  },
  {
   "cell_type": "code",
   "execution_count": 66,
   "metadata": {},
   "outputs": [],
   "source": [
    "def update_json_with_keywords(jsonData):\n",
    "    for i in range(len(jsonData)):\n",
    "        jsonData[i].update({\n",
    "            'keywords' : get_keywords(jsonData[i]['data']),\n",
    "            'data' : get_pure_text(jsonData[i]['data'])\n",
    "        })\n",
    "    return jsonData"
   ]
  },
  {
   "cell_type": "code",
   "execution_count": 60,
   "metadata": {},
   "outputs": [
    {
     "data": {
      "text/plain": [
       "['stage symptoms addison ’',\n",
       " 'may also develop small areas darkened skin',\n",
       " 'see gp',\n",
       " 'treatment',\n",
       " 'symptoms addison',\n",
       " 'disease similar common health conditions',\n",
       " 'diabetes underactive thyroid',\n",
       " 'causes attack outer layer adrenal gland',\n",
       " 'also known primary adrenal insufficiency hypoadrenalism',\n",
       " 'left untreated',\n",
       " 'early',\n",
       " 'although symptoms',\n",
       " 'although common ages 30 50',\n",
       " 'ncardrs ).',\n",
       " 'disease treating addison',\n",
       " 'disease largely controlled',\n",
       " 'disease treated medication replace missing hormones',\n",
       " 'dizziness',\n",
       " 'happen levels cortisol body fall significantly due taking medicines',\n",
       " 'cases uk',\n",
       " 'addison ’',\n",
       " 'disease experiencing severe symptoms',\n",
       " 'opt register time',\n",
       " 'disease also find must learn manage bouts fatigue may associated health conditions',\n",
       " 'affect people age',\n",
       " 'investigated',\n",
       " '8',\n",
       " 'people addison',\n",
       " 'cortisol',\n",
       " '90',\n",
       " 'clinical team pass information national congenital anomaly rare diseases registration service',\n",
       " 'adrenal glands two small glands sit top kidneys',\n",
       " 'people condition live normal lifespan able live active life',\n",
       " 'many people addison',\n",
       " 'cramps exhaustion',\n",
       " 'adrenal crisis medical emergency warning signs include severe nausea',\n",
       " 'aldosterone adrenaline',\n",
       " 'always caused addison ’',\n",
       " 'however',\n",
       " 'read treating addison',\n",
       " 'helps scientists look better ways prevent treat condition',\n",
       " 'read causes addison ’',\n",
       " 'responsible 70',\n",
       " 'read symptoms addison ’',\n",
       " 'muscle weakness low mood loss appetite unintentional weight loss increased thirst time',\n",
       " 'darkened lips gums',\n",
       " 'tb ), although uncommon uk',\n",
       " 'disease information addison',\n",
       " 'fever',\n",
       " 'confusion',\n",
       " 'adrenal gland damaged',\n",
       " 'disease happens condition usually result problem immune system',\n",
       " 'potential causes include conditions damage adrenal glands',\n",
       " '’',\n",
       " 'disease addison ’',\n",
       " 'dial 999 ambulance',\n",
       " 'lack energy motivation',\n",
       " 'someone know addison ’',\n",
       " 'another illness',\n",
       " 'limitations',\n",
       " 'problems may become severe may experience symptoms',\n",
       " 'enough cortisol aldosterone produced',\n",
       " 'find register',\n",
       " 'headache weakness',\n",
       " 'fainting',\n",
       " 'need take medication rest life',\n",
       " 'produce essential hormones',\n",
       " 'may experience',\n",
       " 'depression flu',\n",
       " 'addison',\n",
       " 'called adrenal crisis',\n",
       " 'fatigue',\n",
       " 'fatal',\n",
       " '400 people uk addison',\n",
       " 'disease must aware risk sudden worsening symptoms',\n",
       " 'clear happens',\n",
       " 'disease diagnosing addison ’',\n",
       " 'adrenal cortex ), disrupting production steroid hormones aldosterone cortisol',\n",
       " 'rare disorder adrenal glands',\n",
       " 'disease',\n",
       " 'also common women men',\n",
       " 'tuberculosis']"
      ]
     },
     "execution_count": 60,
     "metadata": {},
     "output_type": "execute_result"
    }
   ],
   "source": [
    "get_keywords(data_json[6]['data'])"
   ]
  },
  {
   "cell_type": "code",
   "execution_count": 65,
   "metadata": {},
   "outputs": [
    {
     "data": {
      "text/plain": [
       "['stage symptoms addison ’',\n",
       " 'may also develop small areas darkened skin',\n",
       " 'see gp',\n",
       " 'treatment',\n",
       " 'symptoms addison',\n",
       " 'disease similar common health conditions',\n",
       " 'diabetes underactive thyroid',\n",
       " 'causes attack outer layer adrenal gland',\n",
       " 'also known primary adrenal insufficiency hypoadrenalism',\n",
       " 'left untreated',\n",
       " 'early',\n",
       " 'although symptoms',\n",
       " 'although common ages 30 50',\n",
       " 'ncardrs ).',\n",
       " 'disease treating addison',\n",
       " 'disease largely controlled',\n",
       " 'disease treated medication replace missing hormones',\n",
       " 'dizziness',\n",
       " 'happen levels cortisol body fall significantly due taking medicines',\n",
       " 'cases uk',\n",
       " 'addison ’',\n",
       " 'disease experiencing severe symptoms',\n",
       " 'opt register time',\n",
       " 'disease also find must learn manage bouts fatigue may associated health conditions',\n",
       " 'affect people age',\n",
       " 'investigated',\n",
       " '8',\n",
       " 'people addison',\n",
       " 'cortisol',\n",
       " '90',\n",
       " 'clinical team pass information national congenital anomaly rare diseases registration service',\n",
       " 'adrenal glands two small glands sit top kidneys',\n",
       " 'people condition live normal lifespan able live active life',\n",
       " 'many people addison',\n",
       " 'cramps exhaustion',\n",
       " 'adrenal crisis medical emergency warning signs include severe nausea',\n",
       " 'aldosterone adrenaline',\n",
       " 'always caused addison ’',\n",
       " 'however',\n",
       " 'read treating addison',\n",
       " 'helps scientists look better ways prevent treat condition',\n",
       " 'read causes addison ’',\n",
       " 'responsible 70',\n",
       " 'read symptoms addison ’',\n",
       " 'muscle weakness low mood loss appetite unintentional weight loss increased thirst time',\n",
       " 'darkened lips gums',\n",
       " 'tb ), although uncommon uk',\n",
       " 'disease information addison',\n",
       " 'fever',\n",
       " 'confusion',\n",
       " 'adrenal gland damaged',\n",
       " 'disease happens condition usually result problem immune system',\n",
       " 'potential causes include conditions damage adrenal glands',\n",
       " '’',\n",
       " 'disease addison ’',\n",
       " 'dial 999 ambulance',\n",
       " 'lack energy motivation',\n",
       " 'someone know addison ’',\n",
       " 'another illness',\n",
       " 'limitations',\n",
       " 'problems may become severe may experience symptoms',\n",
       " 'enough cortisol aldosterone produced',\n",
       " 'find register',\n",
       " 'headache weakness',\n",
       " 'fainting',\n",
       " 'need take medication rest life',\n",
       " 'produce essential hormones',\n",
       " 'may experience',\n",
       " 'depression flu',\n",
       " 'addison',\n",
       " 'called adrenal crisis',\n",
       " 'fatigue',\n",
       " 'fatal',\n",
       " '400 people uk addison',\n",
       " 'disease must aware risk sudden worsening symptoms',\n",
       " 'clear happens',\n",
       " 'disease diagnosing addison ’',\n",
       " 'adrenal cortex ), disrupting production steroid hormones aldosterone cortisol',\n",
       " 'rare disorder adrenal glands',\n",
       " 'disease',\n",
       " 'also common women men',\n",
       " 'tuberculosis']"
      ]
     },
     "execution_count": 65,
     "metadata": {},
     "output_type": "execute_result"
    }
   ],
   "source": [
    "get_keywords(data_json[6]['data'])"
   ]
  },
  {
   "cell_type": "code",
   "execution_count": 74,
   "metadata": {},
   "outputs": [],
   "source": [
    "new_json = json.dumps(update_json_with_keywords(data_json))\n",
    "with open(\"datawithkeywords.json\", \"w\") as outfile:\n",
    "    outfile.write(new_json)"
   ]
  },
  {
   "cell_type": "code",
   "execution_count": 70,
   "metadata": {},
   "outputs": [],
   "source": [
    "man = [5,5,485,45,5]"
   ]
  },
  {
   "cell_type": "code",
   "execution_count": 71,
   "metadata": {},
   "outputs": [
    {
     "data": {
      "text/plain": [
       "'[5, 5, 485, 45, 5]'"
      ]
     },
     "execution_count": 71,
     "metadata": {},
     "output_type": "execute_result"
    }
   ],
   "source": [
    "str(man)"
   ]
  },
  {
   "cell_type": "code",
   "execution_count": null,
   "metadata": {},
   "outputs": [],
   "source": []
  }
 ],
 "metadata": {
  "kernelspec": {
   "display_name": "Python 3 (ipykernel)",
   "language": "python",
   "name": "python3"
  },
  "language_info": {
   "codemirror_mode": {
    "name": "ipython",
    "version": 3
   },
   "file_extension": ".py",
   "mimetype": "text/x-python",
   "name": "python",
   "nbconvert_exporter": "python",
   "pygments_lexer": "ipython3",
   "version": "3.8.3"
  }
 },
 "nbformat": 4,
 "nbformat_minor": 4
}
